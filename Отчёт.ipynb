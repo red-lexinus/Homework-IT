{
  "nbformat": 4,
  "nbformat_minor": 0,
  "metadata": {
    "colab": {
      "provenance": [],
      "toc_visible": true
    },
    "kernelspec": {
      "name": "python3",
      "display_name": "Python 3"
    },
    "language_info": {
      "name": "python"
    }
  },
  "cells": [
    {
      "cell_type": "markdown",
      "source": [
        "# **<center>Титульный лист</center>**\n",
        "\n",
        "<a name = 'Титульный_лист'>"
      ],
      "metadata": {
        "id": "QJrGOBfEFoOb"
      }
    },
    {
      "cell_type": "markdown",
      "source": [
        "<font face=\"times new roman\" size=\"3\" color=\"black\">\n",
        "<center> МИНИСТЕРСТВО ЦИФРОВОГО РАЗВИТИЯ, СВЯЗИ И МАССОВЫХ КОММУНИКАЦИЙ РОССИЙСКОЙ ФЕДЕРАЦИИ </center>\n",
        "<center>Ордена Трудового Красного Знамени федеральное государственное бюджетное образовательное учреждение высшего образования </center>\n",
        "<center> <strong> «Московский технический университет связи и информатики» </strong> </center>\n",
        "\n",
        "  <hr>\n",
        "<center> Кафедра «Телевидения и звукового вещания им. С.И. Катаева (ТиЗВ)» </center>\n",
        "<br>\n",
        "<center> <font face=\"times new roman\" size=\"3\" color=\"black\"> Отчет по практической работе № 12</center>\n",
        "<center>по дисциплине </center>\n",
        "<center><b>«Информационные технологии и программирование»</b></center>\n",
        "<center>на тему</center>\n",
        "<center><b>«Системы контроля версий»</b> </center>\n",
        "\n",
        "</font>\n",
        "\n",
        "  <br><br><br><br><br>\n",
        "  <p  align=\"right\"> <font face=\"times new roman\" size=\"3\" color=\"black\"> Выполнил: студент группы </p>\n",
        "  <p  align=\"right\"> <font face=\"times new roman\" size=\"3\" color=\"black\">       БИК 2305 </p>\n",
        "  <p  align=\"right\"> <font face=\"times new roman\" size=\"3\" color=\"black\"> Старченков Алексей Дмитриевич</p>\n",
        "  <p  align=\"right\"> <font face=\"times new roman\" size=\"3\" color=\"black\"> Проверил:</p>\n",
        "  <p  align=\"right\"> <font face=\"times new roman\" size=\"3\" color=\"black\"> Ассистент кафедры ТиЗВ Кудряшов Всеволод Владимирович </p>\n",
        "  <br>\n",
        "  <br>\n",
        "\n",
        "  <p  align=\"center\"> <font face=\"times new roman\" size=\"2\" color=\"black\"> Москва, 2023 г. </p>\n",
        "\n",
        "  <hr>"
      ],
      "metadata": {
        "id": "gkdT1k8-Ga4k"
      }
    },
    {
      "cell_type": "markdown",
      "source": [
        ">## Содержание\n",
        "\n",
        "<a name = 'Содержание'>\n"
      ],
      "metadata": {
        "id": "FWG-7CupSQ-B"
      }
    },
    {
      "cell_type": "markdown",
      "source": [
        "*   [Титульный лист](#Титульный_лист)\n",
        "*   [Содержание](#Содержание)\n",
        "*   [Постановка задач](#Постановка_задач)\n",
        "*   [Ход работы](#Ход_работы)\n",
        "*   [Результат выполнения работы](#Результат_выполнения_работы)"
      ],
      "metadata": {
        "id": "or6B6iT3WHBf"
      }
    },
    {
      "cell_type": "markdown",
      "source": [
        "# **<center>Постановка задач</center>**\n",
        "<a name = 'Постановка_задач'>"
      ],
      "metadata": {
        "id": "4ZB3_aBUGC-g"
      }
    },
    {
      "cell_type": "markdown",
      "source": [
        "> ## Задание\n",
        "\n",
        "---\n",
        "\n",
        "\n",
        "\n",
        "1.   Установить GIT.\n",
        "(Материал для изучения – https://gitforwindows.org/ )\n",
        "1.   Создать локальный репозиторий.\n",
        "(Материал для изучения – https://habr.com/ru/post/273897/ )\n",
        "1.   Создать файл отчета по выполнению практической работы и поместить его в репозиторий\n",
        "1.   Зафиксируйте в отчете все проделанные шаги и создайте версию отчета в GIT\n",
        "1.   Создайте ветку отчета в GIT, добавьте описания шагов в отчет и создайте версию отчета в новой ветке.\n",
        "(Материал для изучения – https://habr.com/ru/post/342116/ )\n",
        "1.   Слейте последнее изменение отчета в основную ветку.\n",
        "1.   Регистрируемся на github (или используем уже существующий аккаунт), создаем проект «homework IIT», залете содержимое из локального репозитория в проект на githab.\n",
        "(Материал для изучения – https://smartiqa.ru/courses/git/lesson-6 )\n",
        "1.   Слейте последнее изменение отчета в основную ветку.\n",
        "1.   Регистрируемся на github (или используем уже существующий аккаунт), создаем проект «homework IIT», залете содержимое из локального репозитория в проект.\n",
        "Разместить на github ранее созданный статический сайт.\n",
        "(Материал для изучения – https://htmlacademy.ru/blog/git/github-as-hosting )\n",
        "\n",
        "\n",
        "\n",
        "\n"
      ],
      "metadata": {
        "id": "RpgAaBvaTwXX"
      }
    },
    {
      "cell_type": "markdown",
      "source": [
        "\n",
        "\n",
        "> ## Цель работы\n",
        "\n",
        "\n",
        "---\n",
        "\n",
        "GIT репозиторий, работающий лакально, а также на GitHub"
      ],
      "metadata": {
        "id": "DvA_FTNTTwXY"
      }
    },
    {
      "cell_type": "markdown",
      "source": [
        "##Задачи работы\n",
        "\n",
        "1.   Установить GIT.\n",
        "(Материал для изучения – https://gitforwindows.org/ )\n",
        "1.   Создать локальный репозиторий.\n",
        "(Материал для изучения – https://habr.com/ru/post/273897/ )\n",
        "1.   Создать файл отчета по выполнению практической работы и поместить его в репозиторий\n",
        "1.   Зафиксируйте в отчете все проделанные шаги и создайте версию отчета в GIT\n",
        "1.   Создайте ветку отчета в GIT, добавьте описания шагов в отчет и создайте версию отчета в новой ветке.\n",
        "(Материал для изучения – https://habr.com/ru/post/342116/ )\n",
        "1.   Слейте последнее изменение отчета в основную ветку.\n",
        "1.   Регистрируемся на github (или используем уже существующий аккаунт), создаем проект «homework IIT», залете содержимое из локального репозитория в проект на githab.\n",
        "(Материал для изучения – https://smartiqa.ru/courses/git/lesson-6 )\n",
        "1.   Слейте последнее изменение отчета в основную ветку.\n",
        "1.   Регистрируемся на github (или используем уже существующий аккаунт), создаем проект «homework IIT», залете содержимое из локального репозитория в проект.\n",
        "Разместить на github ранее созданный статический сайт.\n",
        "(Материал для изучения – https://htmlacademy.ru/blog/git/github-as-hosting )\n",
        "\n",
        "\n",
        "\n"
      ],
      "metadata": {
        "id": "_n8iY9YzTwXZ"
      }
    },
    {
      "cell_type": "markdown",
      "source": [
        "## Расчет входных данных\n",
        "\n",
        "\n",
        "\n",
        "\n",
        "1.   GIT установлен с официального сайта\n",
        "1.   \n",
        "1.   \n",
        "1.   \n",
        "1.   \n",
        "\n",
        "\n"
      ],
      "metadata": {
        "id": "UMusk14HMN9w"
      }
    },
    {
      "cell_type": "markdown",
      "source": [
        "# **<center>Ход работы</center>**\n",
        "<a name = 'Ход_работы'>"
      ],
      "metadata": {
        "id": "Ms6lBx_eGKT6"
      }
    },
    {
      "cell_type": "markdown",
      "source": [
        "### **Решение 1 задачи**\n",
        "\n",
        "---\n",
        "\n",
        "GIT был установлен по ссылке предоставленной в задании\n",
        "\n",
        "---\n",
        "\n",
        "\n",
        "<img src=\"https://drive.google.com/uc?export=view&id=\" alt=\"\">"
      ],
      "metadata": {
        "id": "KezORx0hCDqS"
      }
    },
    {
      "cell_type": "markdown",
      "source": [
        "### **Решение 2 задачи**\n",
        "\n",
        "---\n",
        "\n",
        "Создание локального репозитория\n",
        "\n",
        "---\n",
        "\n",
        "<img src=\"https://drive.google.com/uc?export=view&id=12CoJjVeo-9Xb1jUDNEo83TARsCLlgmNP\" alt=\"\">\n",
        "<img src=\"https://drive.google.com/uc?export=view&id=1L9j6v4A1hqSWresnQ7lq7SOQIsQIFD5Y\" alt=\"\">"
      ],
      "metadata": {
        "id": "G-zuVtJ-AcUO"
      }
    },
    {
      "cell_type": "markdown",
      "source": [
        "### **Решение 3 задачи**\n",
        "\n",
        "---\n",
        "\n",
        "Отчёт перемещённый в локальный репозиторий\n",
        "\n",
        "---\n",
        "\n",
        "\n",
        "<img src=\"https://drive.google.com/uc?export=view&id=14QRs6C_3o97I3lsNBP-Akg7pdJUG4KHw\" alt=\"\">"
      ],
      "metadata": {
        "id": "r0nD1QdLGi2r"
      }
    },
    {
      "cell_type": "markdown",
      "source": [
        "### **Решение 4 задачи**\n",
        "\n",
        "---\n",
        "\n",
        "Содержание отчёта после фиксации проделанных шагов\n",
        "\n",
        "---\n",
        "\n",
        "\n",
        "<img src=\"https://drive.google.com/uc?export=view&id=1j5hatXmOQwserZuGINxxR0tQ4utR0DNS\" alt=\"\">"
      ],
      "metadata": {
        "id": "2W215YsLGjAb"
      }
    },
    {
      "cell_type": "markdown",
      "source": [
        "### **Решение 5 задачи**\n",
        "\n",
        "---\n",
        "\n",
        "Отчёт перемещённый в локальный репозиторий\n",
        "\n",
        "---\n",
        "\n",
        "\n",
        "<img src=\"https://drive.google.com/uc?export=view&id=1DU5UjuQPSc0nMpCvJyyo4EGIJD6SGZmS\" alt=\"\">\n"
      ],
      "metadata": {
        "id": "qg_yLmP-JeNu"
      }
    },
    {
      "cell_type": "markdown",
      "source": [
        "### **Решение 3 задачи**\n",
        "\n",
        "---\n",
        "\n",
        "Отчёт перемещённый в локальный репозиторий\n",
        "\n",
        "---\n",
        "\n",
        "\n",
        "<img src=\"https://drive.google.com/uc?export=view&id=\" alt=\"\">"
      ],
      "metadata": {
        "id": "MDR11sPgJemT"
      }
    },
    {
      "cell_type": "markdown",
      "source": [
        "# **<center>Результат выполнения работы</center>**\n",
        "<a name = 'Результат_выполнения_работы'>"
      ],
      "metadata": {
        "id": "Qj6dfYr8GP7J"
      }
    },
    {
      "cell_type": "markdown",
      "source": [
        "<img src=\"https://drive.google.com/uc?export=view&id=\" alt=\"\">\n"
      ],
      "metadata": {
        "id": "fD1XAByDCiPs"
      }
    }
  ]
}